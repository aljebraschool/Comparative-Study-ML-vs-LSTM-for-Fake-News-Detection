{
  "nbformat": 4,
  "nbformat_minor": 0,
  "metadata": {
    "colab": {
      "provenance": [],
      "gpuType": "T4"
    },
    "kernelspec": {
      "name": "python3",
      "display_name": "Python 3"
    },
    "language_info": {
      "name": "python"
    },
    "accelerator": "GPU"
  },
  "cells": [
    {
      "cell_type": "code",
      "execution_count": null,
      "metadata": {
        "colab": {
          "base_uri": "https://localhost:8080/"
        },
        "id": "RCxlCpJWIGxX",
        "outputId": "3095259d-b1e5-48b5-bd49-46ad0c2d95dd"
      },
      "outputs": [
        {
          "output_type": "stream",
          "name": "stdout",
          "text": [
            "Archive:  /content/fake-news.zip\n",
            "  inflating: submit.csv              \n",
            "  inflating: test.csv                \n",
            "  inflating: train.csv               \n"
          ]
        }
      ],
      "source": [
        "!unzip \"/content/fake-news.zip\""
      ]
    },
    {
      "cell_type": "code",
      "source": [
        "#import libraries\n",
        "import pandas as pd\n",
        "import matplotlib.pyplot as plt\n",
        "import tensorflow as tf\n",
        "import numpy as np"
      ],
      "metadata": {
        "id": "OiNV0PtGISDt"
      },
      "execution_count": null,
      "outputs": []
    },
    {
      "cell_type": "code",
      "source": [
        "#load the data using pandas\n",
        "data = pd.read_csv('train.csv')"
      ],
      "metadata": {
        "id": "IB56MpNRIZuE"
      },
      "execution_count": null,
      "outputs": []
    },
    {
      "cell_type": "code",
      "source": [
        "#check for missing values in each column\n",
        "data.isnull().sum()"
      ],
      "metadata": {
        "colab": {
          "base_uri": "https://localhost:8080/"
        },
        "id": "M2fcs4KDJRq5",
        "outputId": "e0fe9358-d29f-4c92-ca8b-9716827bfed1"
      },
      "execution_count": null,
      "outputs": [
        {
          "output_type": "execute_result",
          "data": {
            "text/plain": [
              "id           0\n",
              "title      558\n",
              "author    1957\n",
              "text        39\n",
              "label        0\n",
              "dtype: int64"
            ]
          },
          "metadata": {},
          "execution_count": 138
        }
      ]
    },
    {
      "cell_type": "code",
      "source": [
        "#drop the missing values\n",
        "data = data.dropna()"
      ],
      "metadata": {
        "id": "2k0qJ1zEJbl8"
      },
      "execution_count": null,
      "outputs": []
    },
    {
      "cell_type": "code",
      "source": [
        "#confirm for missing values agian\n",
        "data.isnull().sum()"
      ],
      "metadata": {
        "colab": {
          "base_uri": "https://localhost:8080/"
        },
        "id": "S1N6RORYKLsu",
        "outputId": "c71233a4-403e-4447-8edd-7efd8f23aa72"
      },
      "execution_count": null,
      "outputs": [
        {
          "output_type": "execute_result",
          "data": {
            "text/plain": [
              "id        0\n",
              "title     0\n",
              "author    0\n",
              "text      0\n",
              "label     0\n",
              "dtype: int64"
            ]
          },
          "metadata": {},
          "execution_count": 140
        }
      ]
    },
    {
      "cell_type": "code",
      "source": [
        "#create dependent and independent variables\n",
        "X = data.iloc[:, : -1]\n",
        "y = data.iloc[:, -1]"
      ],
      "metadata": {
        "id": "OcHa4jxQJo0F"
      },
      "execution_count": null,
      "outputs": []
    },
    {
      "cell_type": "code",
      "source": [
        "X.head(20)"
      ],
      "metadata": {
        "colab": {
          "base_uri": "https://localhost:8080/",
          "height": 676
        },
        "id": "Y269j0pMZLjA",
        "outputId": "c6c2fcdf-14c7-4b8c-c560-568ab112cfa7"
      },
      "execution_count": null,
      "outputs": [
        {
          "output_type": "execute_result",
          "data": {
            "text/plain": [
              "    id                                              title  \\\n",
              "0    0  House Dem Aide: We Didn’t Even See Comey’s Let...   \n",
              "1    1  FLYNN: Hillary Clinton, Big Woman on Campus - ...   \n",
              "2    2                  Why the Truth Might Get You Fired   \n",
              "3    3  15 Civilians Killed In Single US Airstrike Hav...   \n",
              "4    4  Iranian woman jailed for fictional unpublished...   \n",
              "5    5  Jackie Mason: Hollywood Would Love Trump if He...   \n",
              "7    7  Benoît Hamon Wins French Socialist Party’s Pre...   \n",
              "9    9  A Back-Channel Plan for Ukraine and Russia, Co...   \n",
              "10  10  Obama’s Organizing for Action Partners with So...   \n",
              "11  11  BBC Comedy Sketch \"Real Housewives of ISIS\" Ca...   \n",
              "12  12  Russian Researchers Discover Secret Nazi Milit...   \n",
              "13  13  US Officials See No Link Between Trump and Russia   \n",
              "14  14  Re: Yes, There Are Paid Government Trolls On S...   \n",
              "15  15  In Major League Soccer, Argentines Find a Home...   \n",
              "16  16  Wells Fargo Chief Abruptly Steps Down - The Ne...   \n",
              "17  17  Anonymous Donor Pays $2.5 Million To Release E...   \n",
              "18  18                          FBI Closes In On Hillary!   \n",
              "19  19  Chuck Todd: ’BuzzFeed Did Donald Trump a Polit...   \n",
              "21  21  Monica Lewinsky, Clinton Sex Scandal Set for ’...   \n",
              "22  22  Rob Reiner: Trump Is ’Mentally Unstable’ - Bre...   \n",
              "\n",
              "                              author  \\\n",
              "0                      Darrell Lucus   \n",
              "1                    Daniel J. Flynn   \n",
              "2                 Consortiumnews.com   \n",
              "3                    Jessica Purkiss   \n",
              "4                     Howard Portnoy   \n",
              "5                    Daniel Nussbaum   \n",
              "7                    Alissa J. Rubin   \n",
              "9       Megan Twohey and Scott Shane   \n",
              "10                       Aaron Klein   \n",
              "11                   Chris Tomlinson   \n",
              "12                     Amando Flavio   \n",
              "13                        Jason Ditz   \n",
              "14                      AnotherAnnie   \n",
              "15                     Jack Williams   \n",
              "16  Michael Corkery and Stacy Cowley   \n",
              "17                          Starkman   \n",
              "18                           The Doc   \n",
              "19                         Jeff Poor   \n",
              "21                     Jerome Hudson   \n",
              "22                           Pam Key   \n",
              "\n",
              "                                                 text  \n",
              "0   House Dem Aide: We Didn’t Even See Comey’s Let...  \n",
              "1   Ever get the feeling your life circles the rou...  \n",
              "2   Why the Truth Might Get You Fired October 29, ...  \n",
              "3   Videos 15 Civilians Killed In Single US Airstr...  \n",
              "4   Print \\nAn Iranian woman has been sentenced to...  \n",
              "5   In these trying times, Jackie Mason is the Voi...  \n",
              "7   PARIS  —   France chose an idealistic, traditi...  \n",
              "9   A week before Michael T. Flynn resigned as nat...  \n",
              "10  Organizing for Action, the activist group that...  \n",
              "11  The BBC produced spoof on the “Real Housewives...  \n",
              "12  The mystery surrounding The Third Reich and Na...  \n",
              "13  Clinton Campaign Demands FBI Affirm Trump's Ru...  \n",
              "14  Yes, There Are Paid Government Trolls On Socia...  \n",
              "15  Guillermo Barros Schelotto was not the first A...  \n",
              "16  The scandal engulfing Wells Fargo toppled its ...  \n",
              "17  A Caddo Nation tribal leader has just been fre...  \n",
              "18  FBI Closes In On Hillary! Posted on Home » Hea...  \n",
              "19  Wednesday after   Donald Trump’s press confere...  \n",
              "21  Screenwriter Ryan Murphy, who has produced the...  \n",
              "22  Sunday on MSNBC’s “AM Joy,” actor and director...  "
            ],
            "text/html": [
              "\n",
              "  <div id=\"df-7ebdc936-16d6-4ab5-84d5-d0831c0db519\" class=\"colab-df-container\">\n",
              "    <div>\n",
              "<style scoped>\n",
              "    .dataframe tbody tr th:only-of-type {\n",
              "        vertical-align: middle;\n",
              "    }\n",
              "\n",
              "    .dataframe tbody tr th {\n",
              "        vertical-align: top;\n",
              "    }\n",
              "\n",
              "    .dataframe thead th {\n",
              "        text-align: right;\n",
              "    }\n",
              "</style>\n",
              "<table border=\"1\" class=\"dataframe\">\n",
              "  <thead>\n",
              "    <tr style=\"text-align: right;\">\n",
              "      <th></th>\n",
              "      <th>id</th>\n",
              "      <th>title</th>\n",
              "      <th>author</th>\n",
              "      <th>text</th>\n",
              "    </tr>\n",
              "  </thead>\n",
              "  <tbody>\n",
              "    <tr>\n",
              "      <th>0</th>\n",
              "      <td>0</td>\n",
              "      <td>House Dem Aide: We Didn’t Even See Comey’s Let...</td>\n",
              "      <td>Darrell Lucus</td>\n",
              "      <td>House Dem Aide: We Didn’t Even See Comey’s Let...</td>\n",
              "    </tr>\n",
              "    <tr>\n",
              "      <th>1</th>\n",
              "      <td>1</td>\n",
              "      <td>FLYNN: Hillary Clinton, Big Woman on Campus - ...</td>\n",
              "      <td>Daniel J. Flynn</td>\n",
              "      <td>Ever get the feeling your life circles the rou...</td>\n",
              "    </tr>\n",
              "    <tr>\n",
              "      <th>2</th>\n",
              "      <td>2</td>\n",
              "      <td>Why the Truth Might Get You Fired</td>\n",
              "      <td>Consortiumnews.com</td>\n",
              "      <td>Why the Truth Might Get You Fired October 29, ...</td>\n",
              "    </tr>\n",
              "    <tr>\n",
              "      <th>3</th>\n",
              "      <td>3</td>\n",
              "      <td>15 Civilians Killed In Single US Airstrike Hav...</td>\n",
              "      <td>Jessica Purkiss</td>\n",
              "      <td>Videos 15 Civilians Killed In Single US Airstr...</td>\n",
              "    </tr>\n",
              "    <tr>\n",
              "      <th>4</th>\n",
              "      <td>4</td>\n",
              "      <td>Iranian woman jailed for fictional unpublished...</td>\n",
              "      <td>Howard Portnoy</td>\n",
              "      <td>Print \\nAn Iranian woman has been sentenced to...</td>\n",
              "    </tr>\n",
              "    <tr>\n",
              "      <th>5</th>\n",
              "      <td>5</td>\n",
              "      <td>Jackie Mason: Hollywood Would Love Trump if He...</td>\n",
              "      <td>Daniel Nussbaum</td>\n",
              "      <td>In these trying times, Jackie Mason is the Voi...</td>\n",
              "    </tr>\n",
              "    <tr>\n",
              "      <th>7</th>\n",
              "      <td>7</td>\n",
              "      <td>Benoît Hamon Wins French Socialist Party’s Pre...</td>\n",
              "      <td>Alissa J. Rubin</td>\n",
              "      <td>PARIS  —   France chose an idealistic, traditi...</td>\n",
              "    </tr>\n",
              "    <tr>\n",
              "      <th>9</th>\n",
              "      <td>9</td>\n",
              "      <td>A Back-Channel Plan for Ukraine and Russia, Co...</td>\n",
              "      <td>Megan Twohey and Scott Shane</td>\n",
              "      <td>A week before Michael T. Flynn resigned as nat...</td>\n",
              "    </tr>\n",
              "    <tr>\n",
              "      <th>10</th>\n",
              "      <td>10</td>\n",
              "      <td>Obama’s Organizing for Action Partners with So...</td>\n",
              "      <td>Aaron Klein</td>\n",
              "      <td>Organizing for Action, the activist group that...</td>\n",
              "    </tr>\n",
              "    <tr>\n",
              "      <th>11</th>\n",
              "      <td>11</td>\n",
              "      <td>BBC Comedy Sketch \"Real Housewives of ISIS\" Ca...</td>\n",
              "      <td>Chris Tomlinson</td>\n",
              "      <td>The BBC produced spoof on the “Real Housewives...</td>\n",
              "    </tr>\n",
              "    <tr>\n",
              "      <th>12</th>\n",
              "      <td>12</td>\n",
              "      <td>Russian Researchers Discover Secret Nazi Milit...</td>\n",
              "      <td>Amando Flavio</td>\n",
              "      <td>The mystery surrounding The Third Reich and Na...</td>\n",
              "    </tr>\n",
              "    <tr>\n",
              "      <th>13</th>\n",
              "      <td>13</td>\n",
              "      <td>US Officials See No Link Between Trump and Russia</td>\n",
              "      <td>Jason Ditz</td>\n",
              "      <td>Clinton Campaign Demands FBI Affirm Trump's Ru...</td>\n",
              "    </tr>\n",
              "    <tr>\n",
              "      <th>14</th>\n",
              "      <td>14</td>\n",
              "      <td>Re: Yes, There Are Paid Government Trolls On S...</td>\n",
              "      <td>AnotherAnnie</td>\n",
              "      <td>Yes, There Are Paid Government Trolls On Socia...</td>\n",
              "    </tr>\n",
              "    <tr>\n",
              "      <th>15</th>\n",
              "      <td>15</td>\n",
              "      <td>In Major League Soccer, Argentines Find a Home...</td>\n",
              "      <td>Jack Williams</td>\n",
              "      <td>Guillermo Barros Schelotto was not the first A...</td>\n",
              "    </tr>\n",
              "    <tr>\n",
              "      <th>16</th>\n",
              "      <td>16</td>\n",
              "      <td>Wells Fargo Chief Abruptly Steps Down - The Ne...</td>\n",
              "      <td>Michael Corkery and Stacy Cowley</td>\n",
              "      <td>The scandal engulfing Wells Fargo toppled its ...</td>\n",
              "    </tr>\n",
              "    <tr>\n",
              "      <th>17</th>\n",
              "      <td>17</td>\n",
              "      <td>Anonymous Donor Pays $2.5 Million To Release E...</td>\n",
              "      <td>Starkman</td>\n",
              "      <td>A Caddo Nation tribal leader has just been fre...</td>\n",
              "    </tr>\n",
              "    <tr>\n",
              "      <th>18</th>\n",
              "      <td>18</td>\n",
              "      <td>FBI Closes In On Hillary!</td>\n",
              "      <td>The Doc</td>\n",
              "      <td>FBI Closes In On Hillary! Posted on Home » Hea...</td>\n",
              "    </tr>\n",
              "    <tr>\n",
              "      <th>19</th>\n",
              "      <td>19</td>\n",
              "      <td>Chuck Todd: ’BuzzFeed Did Donald Trump a Polit...</td>\n",
              "      <td>Jeff Poor</td>\n",
              "      <td>Wednesday after   Donald Trump’s press confere...</td>\n",
              "    </tr>\n",
              "    <tr>\n",
              "      <th>21</th>\n",
              "      <td>21</td>\n",
              "      <td>Monica Lewinsky, Clinton Sex Scandal Set for ’...</td>\n",
              "      <td>Jerome Hudson</td>\n",
              "      <td>Screenwriter Ryan Murphy, who has produced the...</td>\n",
              "    </tr>\n",
              "    <tr>\n",
              "      <th>22</th>\n",
              "      <td>22</td>\n",
              "      <td>Rob Reiner: Trump Is ’Mentally Unstable’ - Bre...</td>\n",
              "      <td>Pam Key</td>\n",
              "      <td>Sunday on MSNBC’s “AM Joy,” actor and director...</td>\n",
              "    </tr>\n",
              "  </tbody>\n",
              "</table>\n",
              "</div>\n",
              "    <div class=\"colab-df-buttons\">\n",
              "\n",
              "  <div class=\"colab-df-container\">\n",
              "    <button class=\"colab-df-convert\" onclick=\"convertToInteractive('df-7ebdc936-16d6-4ab5-84d5-d0831c0db519')\"\n",
              "            title=\"Convert this dataframe to an interactive table.\"\n",
              "            style=\"display:none;\">\n",
              "\n",
              "  <svg xmlns=\"http://www.w3.org/2000/svg\" height=\"24px\" viewBox=\"0 -960 960 960\">\n",
              "    <path d=\"M120-120v-720h720v720H120Zm60-500h600v-160H180v160Zm220 220h160v-160H400v160Zm0 220h160v-160H400v160ZM180-400h160v-160H180v160Zm440 0h160v-160H620v160ZM180-180h160v-160H180v160Zm440 0h160v-160H620v160Z\"/>\n",
              "  </svg>\n",
              "    </button>\n",
              "\n",
              "  <style>\n",
              "    .colab-df-container {\n",
              "      display:flex;\n",
              "      gap: 12px;\n",
              "    }\n",
              "\n",
              "    .colab-df-convert {\n",
              "      background-color: #E8F0FE;\n",
              "      border: none;\n",
              "      border-radius: 50%;\n",
              "      cursor: pointer;\n",
              "      display: none;\n",
              "      fill: #1967D2;\n",
              "      height: 32px;\n",
              "      padding: 0 0 0 0;\n",
              "      width: 32px;\n",
              "    }\n",
              "\n",
              "    .colab-df-convert:hover {\n",
              "      background-color: #E2EBFA;\n",
              "      box-shadow: 0px 1px 2px rgba(60, 64, 67, 0.3), 0px 1px 3px 1px rgba(60, 64, 67, 0.15);\n",
              "      fill: #174EA6;\n",
              "    }\n",
              "\n",
              "    .colab-df-buttons div {\n",
              "      margin-bottom: 4px;\n",
              "    }\n",
              "\n",
              "    [theme=dark] .colab-df-convert {\n",
              "      background-color: #3B4455;\n",
              "      fill: #D2E3FC;\n",
              "    }\n",
              "\n",
              "    [theme=dark] .colab-df-convert:hover {\n",
              "      background-color: #434B5C;\n",
              "      box-shadow: 0px 1px 3px 1px rgba(0, 0, 0, 0.15);\n",
              "      filter: drop-shadow(0px 1px 2px rgba(0, 0, 0, 0.3));\n",
              "      fill: #FFFFFF;\n",
              "    }\n",
              "  </style>\n",
              "\n",
              "    <script>\n",
              "      const buttonEl =\n",
              "        document.querySelector('#df-7ebdc936-16d6-4ab5-84d5-d0831c0db519 button.colab-df-convert');\n",
              "      buttonEl.style.display =\n",
              "        google.colab.kernel.accessAllowed ? 'block' : 'none';\n",
              "\n",
              "      async function convertToInteractive(key) {\n",
              "        const element = document.querySelector('#df-7ebdc936-16d6-4ab5-84d5-d0831c0db519');\n",
              "        const dataTable =\n",
              "          await google.colab.kernel.invokeFunction('convertToInteractive',\n",
              "                                                    [key], {});\n",
              "        if (!dataTable) return;\n",
              "\n",
              "        const docLinkHtml = 'Like what you see? Visit the ' +\n",
              "          '<a target=\"_blank\" href=https://colab.research.google.com/notebooks/data_table.ipynb>data table notebook</a>'\n",
              "          + ' to learn more about interactive tables.';\n",
              "        element.innerHTML = '';\n",
              "        dataTable['output_type'] = 'display_data';\n",
              "        await google.colab.output.renderOutput(dataTable, element);\n",
              "        const docLink = document.createElement('div');\n",
              "        docLink.innerHTML = docLinkHtml;\n",
              "        element.appendChild(docLink);\n",
              "      }\n",
              "    </script>\n",
              "  </div>\n",
              "\n",
              "\n",
              "<div id=\"df-4e061338-9d64-4fa5-88e2-838c244f4544\">\n",
              "  <button class=\"colab-df-quickchart\" onclick=\"quickchart('df-4e061338-9d64-4fa5-88e2-838c244f4544')\"\n",
              "            title=\"Suggest charts\"\n",
              "            style=\"display:none;\">\n",
              "\n",
              "<svg xmlns=\"http://www.w3.org/2000/svg\" height=\"24px\"viewBox=\"0 0 24 24\"\n",
              "     width=\"24px\">\n",
              "    <g>\n",
              "        <path d=\"M19 3H5c-1.1 0-2 .9-2 2v14c0 1.1.9 2 2 2h14c1.1 0 2-.9 2-2V5c0-1.1-.9-2-2-2zM9 17H7v-7h2v7zm4 0h-2V7h2v10zm4 0h-2v-4h2v4z\"/>\n",
              "    </g>\n",
              "</svg>\n",
              "  </button>\n",
              "\n",
              "<style>\n",
              "  .colab-df-quickchart {\n",
              "      --bg-color: #E8F0FE;\n",
              "      --fill-color: #1967D2;\n",
              "      --hover-bg-color: #E2EBFA;\n",
              "      --hover-fill-color: #174EA6;\n",
              "      --disabled-fill-color: #AAA;\n",
              "      --disabled-bg-color: #DDD;\n",
              "  }\n",
              "\n",
              "  [theme=dark] .colab-df-quickchart {\n",
              "      --bg-color: #3B4455;\n",
              "      --fill-color: #D2E3FC;\n",
              "      --hover-bg-color: #434B5C;\n",
              "      --hover-fill-color: #FFFFFF;\n",
              "      --disabled-bg-color: #3B4455;\n",
              "      --disabled-fill-color: #666;\n",
              "  }\n",
              "\n",
              "  .colab-df-quickchart {\n",
              "    background-color: var(--bg-color);\n",
              "    border: none;\n",
              "    border-radius: 50%;\n",
              "    cursor: pointer;\n",
              "    display: none;\n",
              "    fill: var(--fill-color);\n",
              "    height: 32px;\n",
              "    padding: 0;\n",
              "    width: 32px;\n",
              "  }\n",
              "\n",
              "  .colab-df-quickchart:hover {\n",
              "    background-color: var(--hover-bg-color);\n",
              "    box-shadow: 0 1px 2px rgba(60, 64, 67, 0.3), 0 1px 3px 1px rgba(60, 64, 67, 0.15);\n",
              "    fill: var(--button-hover-fill-color);\n",
              "  }\n",
              "\n",
              "  .colab-df-quickchart-complete:disabled,\n",
              "  .colab-df-quickchart-complete:disabled:hover {\n",
              "    background-color: var(--disabled-bg-color);\n",
              "    fill: var(--disabled-fill-color);\n",
              "    box-shadow: none;\n",
              "  }\n",
              "\n",
              "  .colab-df-spinner {\n",
              "    border: 2px solid var(--fill-color);\n",
              "    border-color: transparent;\n",
              "    border-bottom-color: var(--fill-color);\n",
              "    animation:\n",
              "      spin 1s steps(1) infinite;\n",
              "  }\n",
              "\n",
              "  @keyframes spin {\n",
              "    0% {\n",
              "      border-color: transparent;\n",
              "      border-bottom-color: var(--fill-color);\n",
              "      border-left-color: var(--fill-color);\n",
              "    }\n",
              "    20% {\n",
              "      border-color: transparent;\n",
              "      border-left-color: var(--fill-color);\n",
              "      border-top-color: var(--fill-color);\n",
              "    }\n",
              "    30% {\n",
              "      border-color: transparent;\n",
              "      border-left-color: var(--fill-color);\n",
              "      border-top-color: var(--fill-color);\n",
              "      border-right-color: var(--fill-color);\n",
              "    }\n",
              "    40% {\n",
              "      border-color: transparent;\n",
              "      border-right-color: var(--fill-color);\n",
              "      border-top-color: var(--fill-color);\n",
              "    }\n",
              "    60% {\n",
              "      border-color: transparent;\n",
              "      border-right-color: var(--fill-color);\n",
              "    }\n",
              "    80% {\n",
              "      border-color: transparent;\n",
              "      border-right-color: var(--fill-color);\n",
              "      border-bottom-color: var(--fill-color);\n",
              "    }\n",
              "    90% {\n",
              "      border-color: transparent;\n",
              "      border-bottom-color: var(--fill-color);\n",
              "    }\n",
              "  }\n",
              "</style>\n",
              "\n",
              "  <script>\n",
              "    async function quickchart(key) {\n",
              "      const quickchartButtonEl =\n",
              "        document.querySelector('#' + key + ' button');\n",
              "      quickchartButtonEl.disabled = true;  // To prevent multiple clicks.\n",
              "      quickchartButtonEl.classList.add('colab-df-spinner');\n",
              "      try {\n",
              "        const charts = await google.colab.kernel.invokeFunction(\n",
              "            'suggestCharts', [key], {});\n",
              "      } catch (error) {\n",
              "        console.error('Error during call to suggestCharts:', error);\n",
              "      }\n",
              "      quickchartButtonEl.classList.remove('colab-df-spinner');\n",
              "      quickchartButtonEl.classList.add('colab-df-quickchart-complete');\n",
              "    }\n",
              "    (() => {\n",
              "      let quickchartButtonEl =\n",
              "        document.querySelector('#df-4e061338-9d64-4fa5-88e2-838c244f4544 button');\n",
              "      quickchartButtonEl.style.display =\n",
              "        google.colab.kernel.accessAllowed ? 'block' : 'none';\n",
              "    })();\n",
              "  </script>\n",
              "</div>\n",
              "\n",
              "    </div>\n",
              "  </div>\n"
            ],
            "application/vnd.google.colaboratory.intrinsic+json": {
              "type": "dataframe",
              "variable_name": "X",
              "summary": "{\n  \"name\": \"X\",\n  \"rows\": 18285,\n  \"fields\": [\n    {\n      \"column\": \"id\",\n      \"properties\": {\n        \"dtype\": \"number\",\n        \"std\": 5998,\n        \"min\": 0,\n        \"max\": 20799,\n        \"num_unique_values\": 18285,\n        \"samples\": [\n          11784,\n          6997,\n          14903\n        ],\n        \"semantic_type\": \"\",\n        \"description\": \"\"\n      }\n    },\n    {\n      \"column\": \"title\",\n      \"properties\": {\n        \"dtype\": \"string\",\n        \"num_unique_values\": 17931,\n        \"samples\": [\n          \"Open Borders Lobby Blasts Sheriff\\u2019s Deportation Deal\",\n          \"Obama's Victory Lap?\",\n          \"Fighting in Aleppo Leaves 2 Million Without Water, U.N. Says - The New York Times\"\n        ],\n        \"semantic_type\": \"\",\n        \"description\": \"\"\n      }\n    },\n    {\n      \"column\": \"author\",\n      \"properties\": {\n        \"dtype\": \"category\",\n        \"num_unique_values\": 3838,\n        \"samples\": [\n          \"Ellen Brodsky\",\n          \"Helene Cooper and David E. Sanger\",\n          \"Richard Fausset, Alan Blinder and John Eligon\"\n        ],\n        \"semantic_type\": \"\",\n        \"description\": \"\"\n      }\n    },\n    {\n      \"column\": \"text\",\n      \"properties\": {\n        \"dtype\": \"string\",\n        \"num_unique_values\": 18017,\n        \"samples\": [\n          \"We Are Change \\nA plane carrying U.S. Vice Presidential candidate Mike Pence and his campaign crew has slid off the runway in New York\\u2019s LaGuardia Airport approximately 5 p.m. eastern today according to WPIX-TV .\\n\\nThere were 37 people on the plane, including Pence. No injuries have been declared or deaths at the time of this writing.\\nThe flight was initially delayted because of unknown problems at LaGuardia, giving Pence time to toss the football around while stranded on the tarmac in Iowa, and tweet this photo reported Fox6. \\n(THIS IS A BREAKING, DEVELOPING STORY AND UPDATES WILL BE ADDED AS MORE INFORMATION BECOMES AVAILABLE.)\\nThe post BREAKING: Plane Carrying U.S. VP Candidate MIKE PENCE Slides Off The Runway appeared first on We Are Change .\\n\",\n          \"The Drought That Was Prophesied To Hit The Southern United States Is Now Here   15th, 2016 \\nA record-setting drought has gripped the southern United States, but most people have no idea that this drought is the fulfillment of a prophecy that was given four years ago. Back in 2008, John Paul Jackson released a DVD entitled \\u201c The Perfect Storm \\u201d in which he detailed many of the prophetic events that God showed him would soon come to America. In 2012, he released a video update to \\u201cThe Perfect Storm\\u201d that you can view on YouTube right here . In that update, he shared a list of future headlines that God had revealed to him over the years. Some of these headlines have already happened since that time, and now we are watching another be fulfilled right in front of our eyes. \\nSpecifically, I am referring to this headline: \\u201cRecord High Temps Accompany Record Drought Swept South\\u201d . \\nIn an article entitled \\u201c July\\u2019s Extreme Heat Breaks Records Across South \\u201c, weather.com detailed many of the high temperature records that have been broken in the South in recent months, but in this article I am going to focus on the crippling drought that is plaguing the region. \\nIn addition to the headline above, John Paul Jackson was shown several other headlines regarding drought and famine coming to America\\u2026 \\n\\u201cDrought Continues to Cause Prayer to Rise\\u201d \\n\\u201cDemand for Classic Seeds Skyrockets\\u201d \\n\\u201cFood Prices Lead Nation\\u2019s Escalating Inflation Woes\\u201d \\n\\u201cSysco and Kraft Consider Guards on Delivery Trucks as Food Nears 40% of the Family Budget\\u201d \\nAnd of course John Paul Jackson is not the only one that has been shown that these things are coming to this nation. \\nThe following is a very small portion of what Terry Bennett was shown in April 2011 \\u2026 \\nI was also warned, by the appearing of the black horse and its rider, about famine. The angel said, \\u201cThere will be a famine of food in your nation!\\u201d Not only this, but also the prices of food, particularly grains, will dramatically rise. We will see not only shortages and high prices, but I was shown significant starvation occurring during this time. Death followed this black horse! \\nDr. Patricia Green correctly prophesied the election victories of Barack Obama and Donald Trump in advance, and she was also shown that famine is going to hit America \\u2026 \\n\\u201cI\\u2019m instructing my children to begin to fill up their storehouses before the famine strikes just as I instructed Joseph while he was in Egypt.\\u201d \\nWith those prophecies in mind, it is extremely alarming to see what is happening all across the southern portion of the United States right now. According to the U.S. Drought Monitor , most of the southern half of the country is experiencing some level of drought at this moment\\u2026 \\nThe drought in California has been raging for quite some time, but what has surprised the experts is how dry it has been in the Southeast lately. The following is from an EcoWatch article entitled \\u201c Record-Breaking Drought and Wildfires Plague Southeast \\u201c\\u2026 \\nThe atmospheric spigots have been turned off across most of the U.S. over the last several weeks. According to the weekly U.S. Drought Monitor report from Nov. 10, more than 27 percent of the contiguous U.S. has been enveloped by at least moderate drought (categories D1 through D4). This is the largest percentage value in more than a year, since late October 2015 . \\nThe upward trend of the last month is worrisome given the outlook for the coming winter: Drier-than-average conditions are projected by the National Oceanic and Atmospheric Administration across the southern half of the contiguous U.S., a frequent outcome during La Ni\\u00f1a winters. \\nTo say that the drought in the Southeast is severe would be a tremendous understatement. At this point, some cities in the Southeast haven\\u2019t seen any measurable rain in about 50 days \\u2026 \\nNo measurable rain (at least .01 inches) has been tallied at Birmingham\\u2019s Shuttlesworth International Airport since Sept. 18, approaching a two-month-long dry streak, topping their previous longest dry streak on record \\u2013 52 straight days \\u2013 from fall 1924. \\nNine minutes of sprinkles Nov. 4 and another bout of sprinkles on Oct. 16 has been the entirety of Birmingham\\u2019s rainfall so far this fall. \\nAnniston, Alabama, and Rome, Georgia, have dry streaks now approaching 50 days. \\nAnd unfortunately, it appears that there is not going to be any substantial rain for the region any time soon \\u2026 \\nThere are no signs of any significant rainfall through the end of the month across the Southeast, AccuWeather Senior Meteorologist Henry Margusity said. \\nThe region needs days and weeks of a steady, soaking rain to completely eliminate the drought. \\n\\u201cThings will only get worse before they get better,\\u201d Margusity explained. \\nWhenever conditions are this dry, it is inevitable that there will be wildfires. \\nRight now more than 100 major wildfires are raging across the Southeast, and some of the worst are in the mountains of North Carolina. \\nAs you read this article, more than 1,000 firefighters are battling dozens of large wildfires in the North Carolina mountains. Governor Pat McCrory is referring to these fires as \\u201c California wildfires in North Carolina \\u201c, and he is not exaggerating one bit. \\nIf what we are witnessing is truly the beginning of the fulfillment of what God showed John Paul Jackson, Terry Bennett and Patricia Green, then we should expect drought conditions to continue to intensify in the months ahead. \\nAnd as you can see above, they are saying that things will eventually get so bad that famine will strike America. \\nMost of us couldn\\u2019t imagine something like that ever happening in this nation. But these are men and women of God with very long track records. As I noted above, Dr. Patricia Green correctly prophesied the election victories by Barack Obama and Donald Trump in advance, and John Paul Jackson has a track record of correctly fulfilled prophecies that is exceedingly long. \\nAs I end this article, I also want to remind everyone of what God showed Heidi Baker regarding the future of America not too long ago \\u2026 \\nI saw bread lines, soup kitchens, and I saw people wearing beautiful clothing. Their clothing was not worn out. Now in my nation when people are hungry you can tell. I mean they are in shredded rags. They don\\u2019t have shoes or they have flip flops. Most of them [have] no shoes. They are hungry and they know they are hungry. They come for food, not because they are beggars, but because they are hungry. \\nThese days a lot of Americans have become complacent and are feeling pretty good about things. \\nBut the events that are warned about in this article are coming, and I would encourage everyone to get prepared while they still can.\",\n          \"Two migrants have been given sentences of three and     years for beating a young man almost to death before violently raping his female friend. The government will try to deport only one of them, temporarily. [The Freie Zeiten reports that three teenage girls and one male friend met for a party at an apartment in Kista, near Stockholm, citing Solna District Court documents.  One of the girls invited a    migrant from Liberia, Richelieu Jarara, with whom she was acquainted. This man brought another African migrant, a Kenyan named Fayed Mwangi, with him. Before long, the migrants began sexually harassing the girls. Matters quickly escalated from there, with the pair conferring briefly before spraying their friend in the face with pepper spray. The Freie Zeiten describes how they then beat and kicked the man with \\u201cbrutal force\\u201d  leaving him with \\u201cmultiple cerebral haemorrhages, severe swelling and bruises all over his body, as well as bone fractures and open wounds\\u201d. The three girls, as well as the attackers, thought the young man had been beaten to death, with Jarara actually uploading a video to Snapchat in which he made light of having \\u201ckilled a guy\\u201d. He was, in fact, still alive, but unconscious and permanently brain damaged. Jarara\\u2019s younger companion,    Mwangi, is said to have \\u201cstrangled\\u201d one of the girls when she tried to intervene, slamming her into a wall and \\u201churling\\u201d her to the floor. The Kenyan then grabbed another of the girls by the hair, dragged her into the bedroom and raped her. She was also strangled, with the Kenyan threatening to strike her if she screamed. The ordeal was finally brought to an end when a neighbour burst into the apartment, allowing the girls to flee. According to the Fria Tider, the court sentenced Mwangi to just     years for his crimes, despite his having raped another woman in May 2016. The government will attempt to deport him afterwards  \\u2014   although he will be allowed to return to the country after ten years, and judges have prevented other European countries, such as the United Kingdom, from following through on deporting criminal migrants after their sentences in the past. Jarara, who has a string of previous convictions for crimes including theft, serious bodily injury, and resisting arrest, was given a slightly longer sentence  \\u2014   three years  \\u2014   but he will not be deported.\"\n        ],\n        \"semantic_type\": \"\",\n        \"description\": \"\"\n      }\n    }\n  ]\n}"
            }
          },
          "metadata": {},
          "execution_count": 142
        }
      ]
    },
    {
      "cell_type": "code",
      "source": [
        "y.head(20)"
      ],
      "metadata": {
        "colab": {
          "base_uri": "https://localhost:8080/"
        },
        "id": "e24LN5NsfrzU",
        "outputId": "47cf17e9-ea3b-46a2-9402-aab612f17311"
      },
      "execution_count": null,
      "outputs": [
        {
          "output_type": "execute_result",
          "data": {
            "text/plain": [
              "0     1\n",
              "1     0\n",
              "2     1\n",
              "3     1\n",
              "4     1\n",
              "5     0\n",
              "7     0\n",
              "9     0\n",
              "10    0\n",
              "11    0\n",
              "12    1\n",
              "13    1\n",
              "14    1\n",
              "15    0\n",
              "16    0\n",
              "17    1\n",
              "18    1\n",
              "19    0\n",
              "21    0\n",
              "22    0\n",
              "Name: label, dtype: int64"
            ]
          },
          "metadata": {},
          "execution_count": 143
        }
      ]
    },
    {
      "cell_type": "code",
      "source": [
        "X.shape"
      ],
      "metadata": {
        "colab": {
          "base_uri": "https://localhost:8080/"
        },
        "id": "eyKrbdWnYjCK",
        "outputId": "be48aa6d-f6e9-458e-eab4-66210e1b969f"
      },
      "execution_count": null,
      "outputs": [
        {
          "output_type": "execute_result",
          "data": {
            "text/plain": [
              "(18285, 4)"
            ]
          },
          "metadata": {},
          "execution_count": 144
        }
      ]
    },
    {
      "cell_type": "code",
      "source": [
        "tf.__version__"
      ],
      "metadata": {
        "colab": {
          "base_uri": "https://localhost:8080/",
          "height": 36
        },
        "id": "n1kjJpGJK4PD",
        "outputId": "81708ba6-30c4-445a-8b27-4c9888d1e60c"
      },
      "execution_count": null,
      "outputs": [
        {
          "output_type": "execute_result",
          "data": {
            "text/plain": [
              "'2.15.0'"
            ],
            "application/vnd.google.colaboratory.intrinsic+json": {
              "type": "string"
            }
          },
          "metadata": {},
          "execution_count": 145
        }
      ]
    },
    {
      "cell_type": "code",
      "source": [
        "#import libraries\n",
        "from tensorflow.keras.layers import Embedding, Dropout, LSTM, Dense\n",
        "from tensorflow.keras.preprocessing.sequence import pad_sequences\n",
        "from tensorflow.keras.models import Sequential\n",
        "from tensorflow.keras.preprocessing.text import one_hot"
      ],
      "metadata": {
        "id": "n02lXQGnKPbz"
      },
      "execution_count": null,
      "outputs": []
    },
    {
      "cell_type": "code",
      "source": [
        "#creat vocabularies of size 5000\n",
        "vocabulary_size = 5000\n",
        "\n",
        "#make a copy of independent variables\n",
        "messages = X.copy()\n",
        "\n",
        "print(messages['title'][1])"
      ],
      "metadata": {
        "colab": {
          "base_uri": "https://localhost:8080/"
        },
        "id": "ZYXua7dVLKKl",
        "outputId": "1a907e1d-50cd-421d-9c69-5caaee6c7cb1"
      },
      "execution_count": null,
      "outputs": [
        {
          "output_type": "stream",
          "name": "stdout",
          "text": [
            "FLYNN: Hillary Clinton, Big Woman on Campus - Breitbart\n"
          ]
        }
      ]
    },
    {
      "cell_type": "code",
      "source": [
        "#reset the index of independent variable to its default\n",
        "messages.reset_index(inplace = True)"
      ],
      "metadata": {
        "id": "pgtBaxeCMV93"
      },
      "execution_count": null,
      "outputs": []
    },
    {
      "cell_type": "markdown",
      "source": [
        "## Data Proprocessing"
      ],
      "metadata": {
        "id": "R9qB3JEWNQjp"
      }
    },
    {
      "cell_type": "code",
      "source": [
        "import nltk\n",
        "import re\n",
        "from nltk.corpus import stopwords\n",
        "nltk.download('stopwords')"
      ],
      "metadata": {
        "colab": {
          "base_uri": "https://localhost:8080/"
        },
        "id": "12B5lK4HMf3T",
        "outputId": "3336cf74-824e-4502-9353-f0a62cfa5e7b"
      },
      "execution_count": null,
      "outputs": [
        {
          "output_type": "stream",
          "name": "stderr",
          "text": [
            "[nltk_data] Downloading package stopwords to /root/nltk_data...\n",
            "[nltk_data]   Package stopwords is already up-to-date!\n"
          ]
        },
        {
          "output_type": "execute_result",
          "data": {
            "text/plain": [
              "True"
            ]
          },
          "metadata": {},
          "execution_count": 149
        }
      ]
    },
    {
      "cell_type": "code",
      "source": [
        "from nltk.stem.porter import PorterStemmer\n",
        "import tqdm as tqdm\n",
        "\n",
        "porte_stemmer = PorterStemmer()\n",
        "corpos = []\n",
        "\n",
        "for word in range(len(messages)):\n",
        "  review = re.sub('[^a-zA-Z]', ' ', messages['title'][word])\n",
        "  review = review.lower()\n",
        "  review = review.split()\n",
        "\n",
        "  review = [porte_stemmer.stem(token) for token in review if not token in stopwords.words('english')]\n",
        "  review = ' '.join(review)\n",
        "  corpos.append(review)\n",
        "\n",
        "\n"
      ],
      "metadata": {
        "id": "NSKsK0RtNAZh"
      },
      "execution_count": null,
      "outputs": []
    },
    {
      "cell_type": "code",
      "source": [
        "#one hot encoding\n",
        "one_hot_representation = [one_hot(word, vocabulary_size) for word in corpos]"
      ],
      "metadata": {
        "id": "mO36CtOfPiOa"
      },
      "execution_count": null,
      "outputs": []
    },
    {
      "cell_type": "code",
      "source": [
        "one_hot_representation[0]"
      ],
      "metadata": {
        "colab": {
          "base_uri": "https://localhost:8080/"
        },
        "id": "Nh_fZkeOQFkP",
        "outputId": "89606680-efcd-45f5-942c-300be7522689"
      },
      "execution_count": null,
      "outputs": [
        {
          "output_type": "execute_result",
          "data": {
            "text/plain": [
              "[3890, 653, 2083, 4819, 204, 804, 4567, 3718, 1671, 4356]"
            ]
          },
          "metadata": {},
          "execution_count": 152
        }
      ]
    },
    {
      "cell_type": "code",
      "source": [
        "#set the maximum word length\n",
        "set_length = 20\n",
        "\n",
        "#add padding to have unified word length\n",
        "embedding_representation = pad_sequences(one_hot_representation, padding = 'pre', maxlen = set_length)\n",
        "\n",
        "print(embedding_representation)"
      ],
      "metadata": {
        "colab": {
          "base_uri": "https://localhost:8080/"
        },
        "id": "4WWbNfznQJWH",
        "outputId": "814a9c9a-9a4b-451c-cc34-7a33d787f36b"
      },
      "execution_count": null,
      "outputs": [
        {
          "output_type": "stream",
          "name": "stdout",
          "text": [
            "[[   0    0    0 ... 3718 1671 4356]\n",
            " [   0    0    0 ... 2917 3389 1823]\n",
            " [   0    0    0 ...  473 2054 4344]\n",
            " ...\n",
            " [   0    0    0 ... 3955 2845 3843]\n",
            " [   0    0    0 ... 2500 2048 2933]\n",
            " [   0    0    0 ... 4590 3643 2788]]\n"
          ]
        }
      ]
    },
    {
      "cell_type": "code",
      "source": [
        "embedding_representation[0]"
      ],
      "metadata": {
        "colab": {
          "base_uri": "https://localhost:8080/"
        },
        "id": "wPS9t44yaslQ",
        "outputId": "10da1eb2-b8e0-4800-b8e9-552024efb257"
      },
      "execution_count": null,
      "outputs": [
        {
          "output_type": "execute_result",
          "data": {
            "text/plain": [
              "array([   0,    0,    0,    0,    0,    0,    0,    0,    0,    0, 3890,\n",
              "        653, 2083, 4819,  204,  804, 4567, 3718, 1671, 4356], dtype=int32)"
            ]
          },
          "metadata": {},
          "execution_count": 154
        }
      ]
    },
    {
      "cell_type": "markdown",
      "source": [
        "## Model building"
      ],
      "metadata": {
        "id": "I76hiqiMOfm9"
      }
    },
    {
      "cell_type": "code",
      "source": [
        "## Creating model\n",
        "embedding_vector_features = 40\n",
        "model = Sequential()\n",
        "model.add(Embedding(vocabulary_size,embedding_vector_features,input_length=set_length))\n",
        "model.add(Dropout(0.9))\n",
        "model.add(LSTM(100))\n",
        "#model.add(Dropout(0.9))\n",
        "model.add(Dense(1,activation='sigmoid'))\n",
        "model.compile(loss='binary_crossentropy',optimizer='adam',metrics=['accuracy'])\n"
      ],
      "metadata": {
        "id": "qtF3LqhnQ8-J"
      },
      "execution_count": null,
      "outputs": []
    },
    {
      "cell_type": "code",
      "source": [
        "print(model.summary())"
      ],
      "metadata": {
        "colab": {
          "base_uri": "https://localhost:8080/"
        },
        "id": "2tlRRvZTRFWU",
        "outputId": "d504a599-3e55-4d8c-ad8c-e7b1d2f87a92"
      },
      "execution_count": null,
      "outputs": [
        {
          "output_type": "stream",
          "name": "stdout",
          "text": [
            "Model: \"sequential_30\"\n",
            "_________________________________________________________________\n",
            " Layer (type)                Output Shape              Param #   \n",
            "=================================================================\n",
            " embedding_30 (Embedding)    (None, 20, 40)            200000    \n",
            "                                                                 \n",
            " dropout_48 (Dropout)        (None, 20, 40)            0         \n",
            "                                                                 \n",
            " lstm_30 (LSTM)              (None, 100)               56400     \n",
            "                                                                 \n",
            " dense_30 (Dense)            (None, 1)                 101       \n",
            "                                                                 \n",
            "=================================================================\n",
            "Total params: 256501 (1001.96 KB)\n",
            "Trainable params: 256501 (1001.96 KB)\n",
            "Non-trainable params: 0 (0.00 Byte)\n",
            "_________________________________________________________________\n",
            "None\n"
          ]
        }
      ]
    },
    {
      "cell_type": "code",
      "source": [
        "#convert the variable back to numpy\n",
        "X_final = np.array(embedding_representation)\n",
        "y_final = np.array(y)"
      ],
      "metadata": {
        "id": "x8nYKeKvRWai"
      },
      "execution_count": null,
      "outputs": []
    },
    {
      "cell_type": "code",
      "source": [
        "from sklearn.model_selection import train_test_split\n",
        "X_train, X_test, y_train, y_test = train_test_split(X_final, y_final, test_size=0.25)"
      ],
      "metadata": {
        "id": "_d3hPfllR2l2"
      },
      "execution_count": null,
      "outputs": []
    },
    {
      "cell_type": "code",
      "source": [
        "### Finally Training\n",
        "model.fit(X_train,y_train,validation_data=(X_test,y_test),epochs=40,batch_size=64)"
      ],
      "metadata": {
        "colab": {
          "base_uri": "https://localhost:8080/"
        },
        "id": "itO5eUQ0R7t7",
        "outputId": "0665cd8c-8cdf-4b5a-8ec4-1d507604e18b"
      },
      "execution_count": null,
      "outputs": [
        {
          "output_type": "stream",
          "name": "stdout",
          "text": [
            "Epoch 1/40\n",
            "215/215 [==============================] - 2s 8ms/step - loss: 0.1603 - accuracy: 0.9364 - val_loss: 0.1864 - val_accuracy: 0.9210\n",
            "Epoch 2/40\n",
            "215/215 [==============================] - 2s 7ms/step - loss: 0.1585 - accuracy: 0.9371 - val_loss: 0.1887 - val_accuracy: 0.9210\n",
            "Epoch 3/40\n",
            "215/215 [==============================] - 2s 7ms/step - loss: 0.1422 - accuracy: 0.9433 - val_loss: 0.1855 - val_accuracy: 0.9269\n",
            "Epoch 4/40\n",
            "215/215 [==============================] - 2s 7ms/step - loss: 0.1413 - accuracy: 0.9433 - val_loss: 0.1820 - val_accuracy: 0.9245\n",
            "Epoch 5/40\n",
            "215/215 [==============================] - 1s 6ms/step - loss: 0.1419 - accuracy: 0.9424 - val_loss: 0.1905 - val_accuracy: 0.9250\n",
            "Epoch 6/40\n",
            "215/215 [==============================] - 2s 8ms/step - loss: 0.1399 - accuracy: 0.9454 - val_loss: 0.1976 - val_accuracy: 0.9241\n",
            "Epoch 7/40\n",
            "215/215 [==============================] - 2s 10ms/step - loss: 0.1291 - accuracy: 0.9488 - val_loss: 0.1898 - val_accuracy: 0.9221\n",
            "Epoch 8/40\n",
            "215/215 [==============================] - 2s 8ms/step - loss: 0.1270 - accuracy: 0.9487 - val_loss: 0.2204 - val_accuracy: 0.9243\n",
            "Epoch 9/40\n",
            "215/215 [==============================] - 2s 8ms/step - loss: 0.1294 - accuracy: 0.9512 - val_loss: 0.1961 - val_accuracy: 0.9232\n",
            "Epoch 10/40\n",
            "215/215 [==============================] - 2s 8ms/step - loss: 0.1238 - accuracy: 0.9508 - val_loss: 0.1946 - val_accuracy: 0.9221\n",
            "Epoch 11/40\n",
            "215/215 [==============================] - 2s 8ms/step - loss: 0.1209 - accuracy: 0.9526 - val_loss: 0.1939 - val_accuracy: 0.9232\n",
            "Epoch 12/40\n",
            "215/215 [==============================] - 2s 8ms/step - loss: 0.1195 - accuracy: 0.9542 - val_loss: 0.1866 - val_accuracy: 0.9213\n",
            "Epoch 13/40\n",
            "215/215 [==============================] - 2s 7ms/step - loss: 0.1150 - accuracy: 0.9533 - val_loss: 0.1914 - val_accuracy: 0.9237\n",
            "Epoch 14/40\n",
            "215/215 [==============================] - 2s 8ms/step - loss: 0.1169 - accuracy: 0.9539 - val_loss: 0.1998 - val_accuracy: 0.9226\n",
            "Epoch 15/40\n",
            "215/215 [==============================] - 2s 11ms/step - loss: 0.1115 - accuracy: 0.9565 - val_loss: 0.2100 - val_accuracy: 0.9234\n",
            "Epoch 16/40\n",
            "215/215 [==============================] - 1s 6ms/step - loss: 0.1103 - accuracy: 0.9587 - val_loss: 0.2206 - val_accuracy: 0.9232\n",
            "Epoch 17/40\n",
            "215/215 [==============================] - 2s 7ms/step - loss: 0.1073 - accuracy: 0.9587 - val_loss: 0.2203 - val_accuracy: 0.9224\n",
            "Epoch 18/40\n",
            "215/215 [==============================] - 2s 7ms/step - loss: 0.1100 - accuracy: 0.9570 - val_loss: 0.2048 - val_accuracy: 0.9245\n",
            "Epoch 19/40\n",
            "215/215 [==============================] - 2s 7ms/step - loss: 0.1079 - accuracy: 0.9573 - val_loss: 0.1919 - val_accuracy: 0.9226\n",
            "Epoch 20/40\n",
            "215/215 [==============================] - 2s 7ms/step - loss: 0.1059 - accuracy: 0.9576 - val_loss: 0.2170 - val_accuracy: 0.9224\n",
            "Epoch 21/40\n",
            "215/215 [==============================] - 1s 7ms/step - loss: 0.1003 - accuracy: 0.9601 - val_loss: 0.2201 - val_accuracy: 0.9206\n",
            "Epoch 22/40\n",
            "215/215 [==============================] - 2s 9ms/step - loss: 0.1020 - accuracy: 0.9594 - val_loss: 0.2127 - val_accuracy: 0.9228\n",
            "Epoch 23/40\n",
            "215/215 [==============================] - 2s 10ms/step - loss: 0.0981 - accuracy: 0.9616 - val_loss: 0.2148 - val_accuracy: 0.9224\n",
            "Epoch 24/40\n",
            "215/215 [==============================] - 2s 7ms/step - loss: 0.0999 - accuracy: 0.9611 - val_loss: 0.2063 - val_accuracy: 0.9215\n",
            "Epoch 25/40\n",
            "215/215 [==============================] - 1s 6ms/step - loss: 0.0959 - accuracy: 0.9630 - val_loss: 0.2085 - val_accuracy: 0.9219\n",
            "Epoch 26/40\n",
            "215/215 [==============================] - 2s 7ms/step - loss: 0.0920 - accuracy: 0.9641 - val_loss: 0.2113 - val_accuracy: 0.9204\n",
            "Epoch 27/40\n",
            "215/215 [==============================] - 2s 7ms/step - loss: 0.0969 - accuracy: 0.9623 - val_loss: 0.2155 - val_accuracy: 0.9232\n",
            "Epoch 28/40\n",
            "215/215 [==============================] - 1s 7ms/step - loss: 0.0970 - accuracy: 0.9632 - val_loss: 0.2220 - val_accuracy: 0.9219\n",
            "Epoch 29/40\n",
            "215/215 [==============================] - 2s 8ms/step - loss: 0.0957 - accuracy: 0.9634 - val_loss: 0.2088 - val_accuracy: 0.9210\n",
            "Epoch 30/40\n",
            "215/215 [==============================] - 2s 9ms/step - loss: 0.0932 - accuracy: 0.9646 - val_loss: 0.2209 - val_accuracy: 0.9215\n",
            "Epoch 31/40\n",
            "215/215 [==============================] - 2s 9ms/step - loss: 0.0919 - accuracy: 0.9643 - val_loss: 0.2203 - val_accuracy: 0.9217\n",
            "Epoch 32/40\n",
            "215/215 [==============================] - 2s 8ms/step - loss: 0.0899 - accuracy: 0.9657 - val_loss: 0.2227 - val_accuracy: 0.9208\n",
            "Epoch 33/40\n",
            "215/215 [==============================] - 1s 7ms/step - loss: 0.0875 - accuracy: 0.9645 - val_loss: 0.2268 - val_accuracy: 0.9208\n",
            "Epoch 34/40\n",
            "215/215 [==============================] - 1s 7ms/step - loss: 0.0865 - accuracy: 0.9667 - val_loss: 0.2241 - val_accuracy: 0.9171\n",
            "Epoch 35/40\n",
            "215/215 [==============================] - 2s 7ms/step - loss: 0.0870 - accuracy: 0.9659 - val_loss: 0.2226 - val_accuracy: 0.9197\n",
            "Epoch 36/40\n",
            "215/215 [==============================] - 2s 7ms/step - loss: 0.0902 - accuracy: 0.9641 - val_loss: 0.2261 - val_accuracy: 0.9219\n",
            "Epoch 37/40\n",
            "215/215 [==============================] - 1s 7ms/step - loss: 0.0819 - accuracy: 0.9685 - val_loss: 0.2354 - val_accuracy: 0.9199\n",
            "Epoch 38/40\n",
            "215/215 [==============================] - 2s 7ms/step - loss: 0.0817 - accuracy: 0.9683 - val_loss: 0.2246 - val_accuracy: 0.9191\n",
            "Epoch 39/40\n",
            "215/215 [==============================] - 2s 10ms/step - loss: 0.0863 - accuracy: 0.9650 - val_loss: 0.2350 - val_accuracy: 0.9182\n",
            "Epoch 40/40\n",
            "215/215 [==============================] - 2s 8ms/step - loss: 0.0812 - accuracy: 0.9697 - val_loss: 0.2395 - val_accuracy: 0.9215\n"
          ]
        },
        {
          "output_type": "execute_result",
          "data": {
            "text/plain": [
              "<keras.src.callbacks.History at 0x7b3525bb4040>"
            ]
          },
          "metadata": {},
          "execution_count": 328
        }
      ]
    },
    {
      "cell_type": "code",
      "source": [
        "import numpy as np\n",
        "from sklearn import metrics\n",
        "# Predict probabilities for each class\n",
        "y_prob = model.predict(X_test)\n",
        "\n",
        "# Use a threshold of 0.5 to convert probabilities to binary labels\n",
        "y_pred = np.where(y_prob > 0.5, 1, 0)\n",
        "\n",
        "# Compute the confusion matrix\n",
        "confusion_m = metrics.confusion_matrix(y_test, y_pred)\n"
      ],
      "metadata": {
        "colab": {
          "base_uri": "https://localhost:8080/"
        },
        "id": "io585t_mdRQW",
        "outputId": "d2b40292-91b8-4f5b-f7eb-ee6594409937"
      },
      "execution_count": null,
      "outputs": [
        {
          "output_type": "stream",
          "name": "stdout",
          "text": [
            "143/143 [==============================] - 1s 2ms/step\n"
          ]
        }
      ]
    },
    {
      "cell_type": "code",
      "source": [
        "# Confusion matrix of Results from Logistic Regression classification\n",
        "from sklearn import metrics\n",
        "\n",
        "cm_display = metrics.ConfusionMatrixDisplay(confusion_matrix=confusion_m,\n",
        "\t\t\t\t\t\t\t\t\t\t\tdisplay_labels=[False, True])\n",
        "\n",
        "cm_display.plot()\n",
        "plt.show()\n"
      ],
      "metadata": {
        "colab": {
          "base_uri": "https://localhost:8080/",
          "height": 449
        },
        "id": "gMLh0PHVbbNt",
        "outputId": "aa4cfc97-33e5-4e32-d1da-c07eb918933b"
      },
      "execution_count": null,
      "outputs": [
        {
          "output_type": "display_data",
          "data": {
            "text/plain": [
              "<Figure size 640x480 with 2 Axes>"
            ],
            "image/png": "[encoded data removed]"
          },
          "metadata": {}
        }
      ]
    },
    {
      "cell_type": "code",
      "source": [
        "from sklearn.metrics import accuracy_score\n",
        "accuracy_score(y_test,y_pred)"
      ],
      "metadata": {
        "colab": {
          "base_uri": "https://localhost:8080/"
        },
        "id": "29Nreps8buyG",
        "outputId": "e62d0508-3ecc-4a08-8bb1-15f8e08b497e"
      },
      "execution_count": null,
      "outputs": [
        {
          "output_type": "execute_result",
          "data": {
            "text/plain": [
              "0.9214785651793526"
            ]
          },
          "metadata": {},
          "execution_count": 331
        }
      ]
    },
    {
      "cell_type": "code",
      "source": [],
      "metadata": {
        "id": "0gJ-kiyOd5xm"
      },
      "execution_count": null,
      "outputs": []
    }
  ]
}